{
 "cells": [
  {
   "cell_type": "code",
   "execution_count": 1,
   "metadata": {},
   "outputs": [],
   "source": [
    "import pandas as pd\n",
    "import ipywidgets as widgets\n",
    "from IPython.display import display\n",
    "import time"
   ]
  },
  {
   "cell_type": "code",
   "execution_count": 2,
   "metadata": {},
   "outputs": [],
   "source": [
    "df = pd.read_csv('./data/country_wise_latest.csv',\n",
    "                 usecols = ['Country/Region', 'Confirmed', 'Deaths', 'Recovered', 'Active'])\n",
    "attribute_list = df.columns.tolist()[1:]"
   ]
  },
  {
   "cell_type": "code",
   "execution_count": 3,
   "metadata": {},
   "outputs": [
    {
     "name": "stdout",
     "output_type": "stream",
     "text": [
      "<class 'pandas.core.frame.DataFrame'>\n",
      "RangeIndex: 187 entries, 0 to 186\n",
      "Data columns (total 5 columns):\n",
      " #   Column          Non-Null Count  Dtype \n",
      "---  ------          --------------  ----- \n",
      " 0   Country/Region  187 non-null    object\n",
      " 1   Confirmed       187 non-null    int64 \n",
      " 2   Deaths          187 non-null    int64 \n",
      " 3   Recovered       187 non-null    int64 \n",
      " 4   Active          187 non-null    int64 \n",
      "dtypes: int64(4), object(1)\n",
      "memory usage: 7.4+ KB\n"
     ]
    }
   ],
   "source": [
    "df.info()"
   ]
  },
  {
   "cell_type": "code",
   "execution_count": null,
   "metadata": {},
   "outputs": [],
   "source": [
    "def mergeSort(alist):\n",
    "#     print(\"Splitting \",alist)\n",
    "    if len(alist)>1:\n",
    "        mid = len(alist)//2\n",
    "        lefthalf = alist[:mid]\n",
    "        righthalf = alist[mid:]\n",
    "\n",
    "        mergeSort(lefthalf)\n",
    "        mergeSort(righthalf)\n",
    "\n",
    "        i=0\n",
    "        j=0\n",
    "        k=0\n",
    "        while i < len(lefthalf) and j < len(righthalf):\n",
    "            if lefthalf[i] < righthalf[j]:\n",
    "                alist[k]=lefthalf[i]\n",
    "                i=i+1\n",
    "            else:\n",
    "                alist[k]=righthalf[j]\n",
    "                j=j+1\n",
    "            k=k+1\n",
    "\n",
    "        while i < len(lefthalf):\n",
    "            alist[k]=lefthalf[i]\n",
    "            i=i+1\n",
    "            k=k+1\n",
    "\n",
    "        while j < len(righthalf):\n",
    "            alist[k]=righthalf[j]\n",
    "            j=j+1\n",
    "            k=k+1\n",
    "#     print(\"Merging \",alist)\n",
    "    return alist"
   ]
  },
  {
   "cell_type": "code",
   "execution_count": null,
   "metadata": {},
   "outputs": [],
   "source": [
    "def quickSort(alist):\n",
    "    quickSortHelper(alist,0,len(alist)-1)\n",
    "\n",
    "\n",
    "def quickSortHelper(alist,first,last):\n",
    "    if first<last:\n",
    "\n",
    "        splitpoint = partition(alist,first,last)\n",
    "\n",
    "        quickSortHelper(alist,first,splitpoint-1)\n",
    "        quickSortHelper(alist,splitpoint+1,last)\n",
    "\n",
    "\n",
    "def partition(alist,first,last):\n",
    "    pivotvalue = alist[first]\n",
    "\n",
    "    leftmark = first+1\n",
    "    rightmark = last\n",
    "\n",
    "    done = False\n",
    "    while not done:\n",
    "        while leftmark <= rightmark and alist[leftmark] <= pivotvalue:\n",
    "            leftmark = leftmark + 1\n",
    "\n",
    "        while alist[rightmark] >= pivotvalue and rightmark >= leftmark:\n",
    "            rightmark = rightmark -1\n",
    "\n",
    "        if rightmark < leftmark:\n",
    "            done = True\n",
    "        else:\n",
    "            temp = alist[leftmark]\n",
    "            alist[leftmark] = alist[rightmark]\n",
    "            alist[rightmark] = temp\n",
    "\n",
    "    temp = alist[first]\n",
    "    alist[first] = alist[rightmark]\n",
    "    alist[rightmark] = temp\n",
    "\n",
    "    return rightmark"
   ]
  },
  {
   "cell_type": "code",
   "execution_count": 4,
   "metadata": {},
   "outputs": [],
   "source": [
    "style = {'description_width': 'initial'}\n",
    "\n",
    "sort_method_dd = widgets.Dropdown(\n",
    "    options=['Merge Sort', 'Quick Sort'],\n",
    "    description='Sort Method 📶',\n",
    "    disabled=False,\n",
    "    style = style\n",
    ")\n",
    "\n",
    "attribute_dd = widgets.Dropdown(\n",
    "    options=attribute_list,\n",
    "    description='Attribute type',\n",
    "    disabled=False,\n",
    "    style = style,\n",
    ")\n",
    "\n",
    "sort_button = widgets.Button(\n",
    "    description='Sort ▶️',\n",
    "    disabled=False,\n",
    "    button_style='success', # 'success', 'info', 'warning', 'danger' or ''\n",
    "    tooltip='Run',\n",
    "    icon='check' \n",
    ")\n",
    "\n",
    "def on_run_button_clicked(b):\n",
    "    \n",
    "    sort_output.clear_output()\n",
    "    df_output.clear_output()\n",
    "    if sort_method_dd.get_interact_value() == 'Merge Sort':\n",
    "        start = time.time()\n",
    "        mergeSort(df[attribute_dd.get_interact_value()].tolist())\n",
    "        end = time.time()\n",
    "    else:\n",
    "        start = time.time()\n",
    "        quickSort(df[attribute_dd.get_interact_value()].tolist())\n",
    "        end = time.time()\n",
    "\n",
    "    with sort_output:\n",
    "        print(\"The\", sort_method_dd.get_interact_value(),\n",
    "              \"algorithm ran in\", end-start, \"seconds\")\n",
    "    with df_output:\n",
    "        aux_df = df[['Country/Region', attribute_dd.get_interact_value()]]\n",
    "        aux_df = aux_df.sort_values(by=[attribute_dd.get_interact_value()])\n",
    "        print(aux_df.head(25))\n",
    "\n",
    "\n",
    "sort_output = widgets.Output()\n",
    "df_output = widgets.Output()\n",
    "\n",
    "sort_button.on_click(on_run_button_clicked)\n",
    "\n"
   ]
  },
  {
   "cell_type": "code",
   "execution_count": 5,
   "metadata": {},
   "outputs": [
    {
     "data": {
      "application/vnd.jupyter.widget-view+json": {
       "model_id": "32a73fb17592456baa431194f5db02fa",
       "version_major": 2,
       "version_minor": 0
      },
      "text/plain": [
       "Dropdown(description='Sort Method:', options=(['Confirmed', 'Deaths', 'Recovered', 'Active'],), value=['Confir…"
      ]
     },
     "metadata": {},
     "output_type": "display_data"
    }
   ],
   "source": [
    "display(sort_method_dd, attribute_dd, sort_button, sort_output, df_output)"
   ]
  },
  {
   "cell_type": "code",
   "execution_count": null,
   "metadata": {},
   "outputs": [],
   "source": []
  }
 ],
 "metadata": {
  "kernelspec": {
   "display_name": "myenv",
   "language": "python",
   "name": "myenv"
  },
  "language_info": {
   "codemirror_mode": {
    "name": "ipython",
    "version": 3
   },
   "file_extension": ".py",
   "mimetype": "text/x-python",
   "name": "python",
   "nbconvert_exporter": "python",
   "pygments_lexer": "ipython3",
   "version": "3.8.2"
  }
 },
 "nbformat": 4,
 "nbformat_minor": 4
}
