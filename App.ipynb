{
 "cells": [
  {
   "cell_type": "code",
   "execution_count": 1,
   "metadata": {},
   "outputs": [],
   "source": [
    "import pandas as pd\n",
    "import ipywidgets as widgets\n",
    "from IPython.display import display"
   ]
  },
  {
   "cell_type": "code",
   "execution_count": 2,
   "metadata": {},
   "outputs": [],
   "source": [
    "df = pd.read_csv('./data/country_wise_latest.csv',\n",
    "                 usecols = ['Country/Region', 'Confirmed', 'Deaths', 'Recovered', 'Active'])\n",
    "attribute_list = df.columns.tolist()[1:]"
   ]
  },
  {
   "cell_type": "code",
   "execution_count": 3,
   "metadata": {},
   "outputs": [
    {
     "name": "stdout",
     "output_type": "stream",
     "text": [
      "<class 'pandas.core.frame.DataFrame'>\n",
      "RangeIndex: 187 entries, 0 to 186\n",
      "Data columns (total 5 columns):\n",
      " #   Column          Non-Null Count  Dtype \n",
      "---  ------          --------------  ----- \n",
      " 0   Country/Region  187 non-null    object\n",
      " 1   Confirmed       187 non-null    int64 \n",
      " 2   Deaths          187 non-null    int64 \n",
      " 3   Recovered       187 non-null    int64 \n",
      " 4   Active          187 non-null    int64 \n",
      "dtypes: int64(4), object(1)\n",
      "memory usage: 7.4+ KB\n"
     ]
    }
   ],
   "source": [
    "df.info()"
   ]
  },
  {
   "cell_type": "code",
   "execution_count": 4,
   "metadata": {},
   "outputs": [],
   "source": [
    "sort_method_dd = widgets.Dropdown(\n",
    "    options=['Merge Sort', 'Quick Sort'],\n",
    "    description='Sort Method:',\n",
    "    disabled=False,\n",
    ")\n",
    "\n",
    "attribute_dd = widgets.Dropdown(\n",
    "    options=[attribute_list],\n",
    "    description='Sort Method:',\n",
    "    disabled=False,\n",
    ")\n",
    "\n",
    "sort_button = widgets.Button(\n",
    "    description='Run ▶️',\n",
    "    disabled=False,\n",
    "    button_style='success', # 'success', 'info', 'warning', 'danger' or ''\n",
    "    tooltip='Run',\n",
    "    icon='check' \n",
    ")\n",
    "\n",
    "\n",
    "\n",
    "# array_ = []\n",
    "# run_output = widgets.Output()\n",
    "# array_output = widgets.Output()\n",
    "# clear_output_ = widgets.Output()\n",
    "\n",
    "# def on_clear_button_clicked(b):\n",
    "#     array_.clear()\n",
    "#     array_output.clear_output()\n",
    "#     run_output.clear_output() \n",
    "#     k1.value = 0\n",
    "#     clear_output_.clear_output()\n",
    "#     with clear_output_:\n",
    "#         print(\"Array Cleaned!!\")\n",
    "\n",
    "# def on_police_button_clicked(b):\n",
    "#     array_.append('P')\n",
    "#     with array_output:\n",
    "#         print(\"Array:\", array_)\n",
    "        \n",
    "# def on_thief_button_clicked(b):\n",
    "#     array_.append('T')\n",
    "#     with array_output:\n",
    "#         print(\"Array:\", array_)\n",
    "\n",
    "# def on_run_button_clicked(b):\n",
    "#     with run_output:\n",
    "#         print(\"Número máximo de ladrões presos:\",policeThief(array_, k1.get_interact_value()))\n",
    "        \n",
    "\n",
    "\n",
    "\n",
    "# police_button.on_click(on_police_button_clicked)\n",
    "# thief_button.on_click(on_thief_button_clicked)\n",
    "# run_button.on_click(on_run_button_clicked)\n",
    "# clear_button.on_click(on_clear_button_clicked)\n",
    "\n",
    "\n",
    "# k1 = widgets.IntText()\n",
    "# k2 = widgets.IntSlider(max=30)\n",
    "# mylink = widgets.jslink((k1, 'value'), (k2, 'value'))\n",
    "\n",
    "\n",
    "\n"
   ]
  },
  {
   "cell_type": "code",
   "execution_count": 5,
   "metadata": {},
   "outputs": [
    {
     "data": {
      "application/vnd.jupyter.widget-view+json": {
       "model_id": "32a73fb17592456baa431194f5db02fa",
       "version_major": 2,
       "version_minor": 0
      },
      "text/plain": [
       "Dropdown(description='Sort Method:', options=(['Confirmed', 'Deaths', 'Recovered', 'Active'],), value=['Confir…"
      ]
     },
     "metadata": {},
     "output_type": "display_data"
    }
   ],
   "source": [
    "display(attribute_dd)"
   ]
  },
  {
   "cell_type": "code",
   "execution_count": null,
   "metadata": {},
   "outputs": [],
   "source": []
  }
 ],
 "metadata": {
  "kernelspec": {
   "display_name": "myenv",
   "language": "python",
   "name": "myenv"
  },
  "language_info": {
   "codemirror_mode": {
    "name": "ipython",
    "version": 3
   },
   "file_extension": ".py",
   "mimetype": "text/x-python",
   "name": "python",
   "nbconvert_exporter": "python",
   "pygments_lexer": "ipython3",
   "version": "3.8.2"
  }
 },
 "nbformat": 4,
 "nbformat_minor": 4
}
